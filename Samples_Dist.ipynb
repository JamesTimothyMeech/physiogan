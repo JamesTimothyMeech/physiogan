{
 "cells": [
  {
   "cell_type": "markdown",
   "metadata": {},
   "source": [
    "### DTW Samples Similarity\n",
    "\n",
    "Analyzes the DTW distance between samples of the same class and samples of different classes in the real and synthetic dataset.\n",
    "\n",
    "The goal is to understand whether or not the model is failing due to mode collapse."
   ]
  },
  {
   "cell_type": "code",
   "execution_count": 1,
   "metadata": {},
   "outputs": [
    {
     "name": "stderr",
     "output_type": "stream",
     "text": [
      "/home/malzantot/anaconda3/lib/python3.6/site-packages/h5py/__init__.py:36: FutureWarning: Conversion of the second argument of issubdtype from `float` to `np.floating` is deprecated. In future, it will be treated as `np.float64 == np.dtype(float).type`.\n",
      "  from ._conv import register_converters as _register_converters\n"
     ]
    }
   ],
   "source": [
    "import numpy as np\n",
    "import matplotlib\n",
    "import matplotlib.pyplot as plt\n",
    "\n",
    "%matplotlib inline\n",
    "\n",
    "import tensorflow as tf\n",
    "\n",
    "import numpy as np\n",
    "from scipy.spatial.distance import euclidean\n",
    "\n",
    "from fastdtw import fastdtw \n",
    "tf.enable_eager_execution()"
   ]
  },
  {
   "cell_type": "code",
   "execution_count": 3,
   "metadata": {},
   "outputs": [],
   "source": [
    "from syn_dataset import SynDataset\n",
    "from adl_dataset import ADLDataset"
   ]
  },
  {
   "cell_type": "code",
   "execution_count": 4,
   "metadata": {},
   "outputs": [],
   "source": [
    "batch_size = 100\n",
    "\n",
    "\n",
    "def get_distances(batch_x, batch_y):\n",
    "    batch_size = batch_x.shape[0]\n",
    "    d_intra = []\n",
    "    d_inter = []\n",
    "    for i in range(batch_size):\n",
    "        for j in range(batch_size):\n",
    "            if i == j:\n",
    "                continue\n",
    "            d, path = fastdtw(batch_x[i], batch_x[j], dist=euclidean)\n",
    "            if (batch_y[i] == batch_y[j]):\n",
    "                d_intra.append(d)\n",
    "            else:\n",
    "                d_inter.append(d)\n",
    "    return d_intra, d_inter\n"
   ]
  },
  {
   "cell_type": "code",
   "execution_count": 6,
   "metadata": {},
   "outputs": [
    {
     "name": "stdout",
     "output_type": "stream",
     "text": [
      "(array([0, 1, 2, 3, 4, 5, 6, 7, 8], dtype=int32), array([ 1, 29, 10, 11, 23, 29, 21, 25, 24]))\n"
     ]
    }
   ],
   "source": [
    "real_set = ADLDataset(ds_root='dataset/adl/', is_train=False)\n",
    "real_set = real_set.to_dataset().shuffle(batch_size).batch(batch_size)\n",
    "real_batch_x, real_batch_y = next(iter(real_set))\n",
    "real_batch_x = real_batch_x.numpy()\n",
    "real_batch_y = real_batch_y.numpy()"
   ]
  },
  {
   "cell_type": "code",
   "execution_count": 7,
   "metadata": {},
   "outputs": [],
   "source": [
    "syn_set = SynDataset('samples/adl_crnn/06_25_09_43', None)\n",
    "syn_set = syn_set.to_dataset().shuffle(1000).batch(batch_size)"
   ]
  },
  {
   "cell_type": "code",
   "execution_count": 8,
   "metadata": {},
   "outputs": [],
   "source": [
    "syn_batch_x, syn_batch_y = next(iter(syn_set))\n",
    "syn_batch_x = syn_batch_x.numpy()\n",
    "syn_batch_y = syn_batch_y.numpy()"
   ]
  },
  {
   "cell_type": "code",
   "execution_count": 9,
   "metadata": {},
   "outputs": [],
   "source": [
    "real_d_intra, real_d_inter = get_distances(real_batch_x, real_batch_y)\n",
    "syn_d_intra, syn_d_inter = get_distances(syn_batch_x, syn_batch_y)"
   ]
  },
  {
   "cell_type": "markdown",
   "metadata": {},
   "source": [
    "## Distances within Real dataset"
   ]
  },
  {
   "cell_type": "code",
   "execution_count": 10,
   "metadata": {},
   "outputs": [
    {
     "data": {
      "image/png": "[encoded data removed]",
      "text/plain": [
       "<Figure size 432x288 with 1 Axes>"
      ]
     },
     "metadata": {},
     "output_type": "display_data"
    }
   ],
   "source": [
    "plt.hist(real_d_inter, color='red',bins=100)\n",
    "plt.hist(real_d_intra, color='green',bins=100)\n",
    "None"
   ]
  },
  {
   "cell_type": "markdown",
   "metadata": {},
   "source": [
    "## Distances within Synthetic dataset"
   ]
  },
  {
   "cell_type": "code",
   "execution_count": 11,
   "metadata": {},
   "outputs": [
    {
     "data": {
      "image/png": "[encoded data removed]",
      "text/plain": [
       "<Figure size 432x288 with 1 Axes>"
      ]
     },
     "metadata": {},
     "output_type": "display_data"
    }
   ],
   "source": [
    "plt.hist(syn_d_inter, color='red',bins=100)\n",
    "plt.hist(syn_d_intra, color='green', bins=100)\n",
    "None"
   ]
  },
  {
   "cell_type": "code",
   "execution_count": 32,
   "metadata": {},
   "outputs": [],
   "source": [
    "## The \n",
    "syn_set = SynDataset('samples/combined2', None)\n",
    "syn_set = syn_set.to_dataset().shuffle(1000).batch(100)\n",
    "syn_batch_x, syn_batch_y = next(iter(syn_set))\n",
    "syn_batch_x = syn_batch_x.numpy()\n",
    "syn_batch_y = syn_batch_y.numpy()\n",
    "syn_d_intra, syn_d_inter = get_distances(syn_batch_x, syn_batch_y)"
   ]
  },
  {
   "cell_type": "code",
   "execution_count": 33,
   "metadata": {},
   "outputs": [
    {
     "data": {
      "image/png": "[encoded data removed]",
      "text/plain": [
       "<Figure size 432x288 with 1 Axes>"
      ]
     },
     "metadata": {},
     "output_type": "display_data"
    }
   ],
   "source": [
    "plt.hist(syn_d_inter, color='red',bins=100)\n",
    "plt.hist(syn_d_intra, color='green', bins=100)\n",
    "None"
   ]
  }
 ],
 "metadata": {
  "kernelspec": {
   "display_name": "Python 3",
   "language": "python",
   "name": "python3"
  },
  "language_info": {
   "codemirror_mode": {
    "name": "ipython",
    "version": 3
   },
   "file_extension": ".py",
   "mimetype": "text/x-python",
   "name": "python",
   "nbconvert_exporter": "python",
   "pygments_lexer": "ipython3",
   "version": "3.6.5"
  }
 },
 "nbformat": 4,
 "nbformat_minor": 2
}
