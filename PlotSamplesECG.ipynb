{
 "cells": [
  {
   "cell_type": "code",
   "execution_count": 1,
   "metadata": {},
   "outputs": [
    {
     "name": "stderr",
     "output_type": "stream",
     "text": [
      "/home/malzantot/anaconda3/lib/python3.6/site-packages/tensorflow/python/framework/dtypes.py:516: FutureWarning: Passing (type, 1) or '1type' as a synonym of type is deprecated; in a future version of numpy, it will be understood as (type, (1,)) / '(1,)type'.\n",
      "  _np_qint8 = np.dtype([(\"qint8\", np.int8, 1)])\n",
      "/home/malzantot/anaconda3/lib/python3.6/site-packages/tensorflow/python/framework/dtypes.py:517: FutureWarning: Passing (type, 1) or '1type' as a synonym of type is deprecated; in a future version of numpy, it will be understood as (type, (1,)) / '(1,)type'.\n",
      "  _np_quint8 = np.dtype([(\"quint8\", np.uint8, 1)])\n",
      "/home/malzantot/anaconda3/lib/python3.6/site-packages/tensorflow/python/framework/dtypes.py:518: FutureWarning: Passing (type, 1) or '1type' as a synonym of type is deprecated; in a future version of numpy, it will be understood as (type, (1,)) / '(1,)type'.\n",
      "  _np_qint16 = np.dtype([(\"qint16\", np.int16, 1)])\n",
      "/home/malzantot/anaconda3/lib/python3.6/site-packages/tensorflow/python/framework/dtypes.py:519: FutureWarning: Passing (type, 1) or '1type' as a synonym of type is deprecated; in a future version of numpy, it will be understood as (type, (1,)) / '(1,)type'.\n",
      "  _np_quint16 = np.dtype([(\"quint16\", np.uint16, 1)])\n",
      "/home/malzantot/anaconda3/lib/python3.6/site-packages/tensorflow/python/framework/dtypes.py:520: FutureWarning: Passing (type, 1) or '1type' as a synonym of type is deprecated; in a future version of numpy, it will be understood as (type, (1,)) / '(1,)type'.\n",
      "  _np_qint32 = np.dtype([(\"qint32\", np.int32, 1)])\n",
      "/home/malzantot/anaconda3/lib/python3.6/site-packages/tensorflow/python/framework/dtypes.py:525: FutureWarning: Passing (type, 1) or '1type' as a synonym of type is deprecated; in a future version of numpy, it will be understood as (type, (1,)) / '(1,)type'.\n",
      "  np_resource = np.dtype([(\"resource\", np.ubyte, 1)])\n",
      "/home/malzantot/anaconda3/lib/python3.6/site-packages/tensorboard/compat/tensorflow_stub/dtypes.py:541: FutureWarning: Passing (type, 1) or '1type' as a synonym of type is deprecated; in a future version of numpy, it will be understood as (type, (1,)) / '(1,)type'.\n",
      "  _np_qint8 = np.dtype([(\"qint8\", np.int8, 1)])\n",
      "/home/malzantot/anaconda3/lib/python3.6/site-packages/tensorboard/compat/tensorflow_stub/dtypes.py:542: FutureWarning: Passing (type, 1) or '1type' as a synonym of type is deprecated; in a future version of numpy, it will be understood as (type, (1,)) / '(1,)type'.\n",
      "  _np_quint8 = np.dtype([(\"quint8\", np.uint8, 1)])\n",
      "/home/malzantot/anaconda3/lib/python3.6/site-packages/tensorboard/compat/tensorflow_stub/dtypes.py:543: FutureWarning: Passing (type, 1) or '1type' as a synonym of type is deprecated; in a future version of numpy, it will be understood as (type, (1,)) / '(1,)type'.\n",
      "  _np_qint16 = np.dtype([(\"qint16\", np.int16, 1)])\n",
      "/home/malzantot/anaconda3/lib/python3.6/site-packages/tensorboard/compat/tensorflow_stub/dtypes.py:544: FutureWarning: Passing (type, 1) or '1type' as a synonym of type is deprecated; in a future version of numpy, it will be understood as (type, (1,)) / '(1,)type'.\n",
      "  _np_quint16 = np.dtype([(\"quint16\", np.uint16, 1)])\n",
      "/home/malzantot/anaconda3/lib/python3.6/site-packages/tensorboard/compat/tensorflow_stub/dtypes.py:545: FutureWarning: Passing (type, 1) or '1type' as a synonym of type is deprecated; in a future version of numpy, it will be understood as (type, (1,)) / '(1,)type'.\n",
      "  _np_qint32 = np.dtype([(\"qint32\", np.int32, 1)])\n",
      "/home/malzantot/anaconda3/lib/python3.6/site-packages/tensorboard/compat/tensorflow_stub/dtypes.py:550: FutureWarning: Passing (type, 1) or '1type' as a synonym of type is deprecated; in a future version of numpy, it will be understood as (type, (1,)) / '(1,)type'.\n",
      "  np_resource = np.dtype([(\"resource\", np.ubyte, 1)])\n"
     ]
    }
   ],
   "source": [
    "import numpy as np\n",
    "import matplotlib\n",
    "import matplotlib.pyplot as plt\n",
    "\n",
    "%matplotlib inline\n",
    "\n",
    "import tensorflow as tf\n",
    "tf.enable_eager_execution()"
   ]
  },
  {
   "cell_type": "code",
   "execution_count": 2,
   "metadata": {},
   "outputs": [
    {
     "name": "stderr",
     "output_type": "stream",
     "text": [
      "WARNING: Logging before flag parsing goes to stderr.\n",
      "W0809 20:35:11.402951 139727244351296 deprecation_wrapper.py:119] From /home/malzantot/Nesl/bio_gan/ecg_dataset.py:13: The name tf.enable_eager_execution is deprecated. Please use tf.compat.v1.enable_eager_execution instead.\n",
      "\n"
     ]
    }
   ],
   "source": [
    "from syn_dataset import SynDataset\n",
    "from data_utils import DataFactory"
   ]
  },
  {
   "cell_type": "code",
   "execution_count": 6,
   "metadata": {},
   "outputs": [],
   "source": [
    "dataset_name = 'ecg'\n",
    "fake_data = [\n",
    "    ('samples/ecg_crnn/08_01_22_13', 'CRNN'),\n",
    "    ('samples/ecg_crvae/07_29_13_10', 'CVRAE'),\n",
    "    ('samples/ecg_rgan/07_30_22_02', 'CRGAN'),\n",
    "    ('samples/ecg_rganar/07_30_22_03', 'CRGAN-AR'),\n",
    "    ('samples/ecg_physgan/07_27_21_11', 'PhisyoGAN'),\n",
    "    \n",
    "]"
   ]
  },
  {
   "cell_type": "code",
   "execution_count": 7,
   "metadata": {},
   "outputs": [],
   "source": [
    "def plot_samples(dset_name, fake_result, plots_per_class = 1, row_width=4, fontsize=24):\n",
    "    real_train, real_test, metadata = DataFactory.create_dataset(dataset_name)\n",
    "    real_data = real_test.shuffle(1000).batch(100)\n",
    "    fake_data = [SynDataset(fake_path).to_dataset().shuffle(1000).batch(100) for fake_path, fake_name in fake_result]\n",
    "    \n",
    "    \n",
    "    num_cols = metadata.num_labels * plots_per_class\n",
    "    num_rows = len(fake_result)+1\n",
    "    \n",
    "    all_data = [real_data] + fake_data\n",
    "    fig, axes = plt.subplots(num_rows, num_cols, figsize=(num_cols*row_width, (num_rows*row_width)))\n",
    "    for i in range(num_rows):\n",
    "        batch_x, batch_y = next(iter(all_data[i]))\n",
    "        batch_x = batch_x.numpy()\n",
    "        batch_y = batch_y.numpy()\n",
    "        #cur_color = 'b' if i == 0 else 'r'\n",
    "        for j in range(metadata.num_labels):\n",
    "            cur_idx = 0\n",
    "            for k in range(plots_per_class):\n",
    "                cur_col = j*plots_per_class+k\n",
    "                while (batch_y[cur_idx] != j):\n",
    "                    cur_idx += 1\n",
    "                axes[i][cur_col].plot(batch_x[cur_idx,:,:])\n",
    "                #axes[i][cur_col].set_title('{}'.format(cur_idx))\n",
    "                cur_idx += 1\n",
    "                axes[i][cur_col].set_ylim(-0.25, 0.35)\n",
    "                #axes[i][cur_col].set_yticks([])\n",
    "                #axes[i][cur_col].set_xticks([])\n",
    "                \n",
    "                if cur_col == 0:\n",
    "                    if i == 0:\n",
    "                        axes[i][cur_col].set_ylabel('Real', fontsize=fontsize)                        \n",
    "                    else:\n",
    "                        axes[i][cur_col].set_ylabel(fake_result[i-1][1], fontsize=fontsize)\n",
    "\n",
    "                if i == 0:\n",
    "                    axes[i][cur_col].set_title(metadata.class_names[j], fontsize=fontsize)\n",
    "                    \n",
    "    plt.tight_layout()\n",
    "    return fig\n",
    "\n"
   ]
  },
  {
   "cell_type": "code",
   "execution_count": 8,
   "metadata": {},
   "outputs": [
    {
     "name": "stdout",
     "output_type": "stream",
     "text": [
      "['1 NSR', '4 AFIB']\n",
      "['1 NSR', '4 AFIB']\n",
      "(array([0, 1], dtype=int32), array([211, 102]))\n",
      "['1 NSR', '4 AFIB']\n",
      "['1 NSR', '4 AFIB']\n",
      "(array([0, 1], dtype=int32), array([72, 33]))\n"
     ]
    }
   ],
   "source": [
    "fig = plot_samples(dataset_name, fake_data, plots_per_class=3)\n",
    "fig.savefig('ecg_result.png')"
   ]
  },
  {
   "cell_type": "code",
   "execution_count": 9,
   "metadata": {},
   "outputs": [
    {
     "name": "stdout",
     "output_type": "stream",
     "text": [
      "['1 NSR', '4 AFIB']\n",
      "['1 NSR', '4 AFIB']\n",
      "(array([0, 1], dtype=int32), array([211, 102]))\n",
      "['1 NSR', '4 AFIB']\n",
      "['1 NSR', '4 AFIB']\n",
      "(array([0, 1], dtype=int32), array([72, 33]))\n"
     ]
    }
   ],
   "source": [
    "dataset_name = 'ecg'\n",
    "fake_data = [\n",
    "    ('samples/ecg_physgan/07_27_21_11', 'PhisyoGAN'),\n",
    "]\n",
    "fig = plot_samples(dataset_name, fake_data, plots_per_class=3)\n",
    "fig.savefig('ecg_result_main.png')"
   ]
  }
 ],
 "metadata": {
  "kernelspec": {
   "display_name": "Python 3",
   "language": "python",
   "name": "python3"
  },
  "language_info": {
   "codemirror_mode": {
    "name": "ipython",
    "version": 3
   },
   "file_extension": ".py",
   "mimetype": "text/x-python",
   "name": "python",
   "nbconvert_exporter": "python",
   "pygments_lexer": "ipython3",
   "version": "3.6.5"
  }
 },
 "nbformat": 4,
 "nbformat_minor": 2
}
