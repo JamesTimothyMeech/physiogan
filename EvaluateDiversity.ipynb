{
 "cells": [
  {
   "cell_type": "code",
   "execution_count": 1,
   "metadata": {},
   "outputs": [
    {
     "name": "stderr",
     "output_type": "stream",
     "text": [
      "/home/malzantot/anaconda3/lib/python3.6/site-packages/h5py/__init__.py:36: FutureWarning: Conversion of the second argument of issubdtype from `float` to `np.floating` is deprecated. In future, it will be treated as `np.float64 == np.dtype(float).type`.\n",
      "  from ._conv import register_converters as _register_converters\n"
     ]
    }
   ],
   "source": [
    "import numpy as np\n",
    "import matplotlib\n",
    "import matplotlib.pyplot as plt\n",
    "\n",
    "%matplotlib inline\n",
    "\n",
    "import tensorflow as tf\n",
    "\n",
    "import numpy as np\n",
    "from scipy.spatial.distance import euclidean\n",
    "\n",
    "from fastdtw import fastdtw \n",
    "tf.enable_eager_execution()"
   ]
  },
  {
   "cell_type": "code",
   "execution_count": 6,
   "metadata": {},
   "outputs": [],
   "source": [
    "from syn_dataset import SynDataset\n",
    "from adl_dataset import ADLDataset\n",
    "from ecg_dataset import ECGDataset\n",
    "from data_utils import DataFactory"
   ]
  },
  {
   "cell_type": "code",
   "execution_count": 4,
   "metadata": {},
   "outputs": [],
   "source": [
    "batch_size = 100\n",
    "\n",
    "\n",
    "def get_distances(batch_x, batch_y):\n",
    "    batch_size = batch_x.shape[0]\n",
    "    d_intra = []\n",
    "    d_inter = []\n",
    "    for i in range(batch_size):\n",
    "        for j in range(batch_size):\n",
    "            if i == j:\n",
    "                continue\n",
    "            if (batch_y[i] == batch_y[j]):\n",
    "                d, path = fastdtw(batch_x[i], batch_x[j], dist=euclidean)\n",
    "                d_intra.append(d)\n",
    "            else:\n",
    "                continue\n",
    "    return d_intra, d_inter"
   ]
  },
  {
   "cell_type": "code",
   "execution_count": 8,
   "metadata": {},
   "outputs": [
    {
     "name": "stdout",
     "output_type": "stream",
     "text": [
      "['1 NSR', '4 AFIB']\n",
      "['1 NSR', '4 AFIB']\n",
      "(array([0, 1], dtype=int32), array([211, 102]))\n",
      "['1 NSR', '4 AFIB']\n",
      "['1 NSR', '4 AFIB']\n",
      "(array([0, 1], dtype=int32), array([72, 33]))\n"
     ]
    }
   ],
   "source": [
    "real_train, real_test, metadata = DataFactory.create_dataset('ecg')\n",
    "real_set = real_train.shuffle(batch_size).batch(batch_size)\n",
    "real_batch_x, real_batch_y = next(iter(real_set))\n",
    "real_batch_x = real_batch_x.numpy()\n",
    "real_batch_y = real_batch_y.numpy()\n",
    "real_d_intra, real_d_inter = get_distances(real_batch_x, real_batch_y)\n"
   ]
  },
  {
   "cell_type": "code",
   "execution_count": 24,
   "metadata": {},
   "outputs": [],
   "source": [
    "syn_set = SynDataset('samples/ecg_crnn/07_19_16_49', None)\n",
    "syn_set = syn_set.to_dataset().shuffle(1000).batch(batch_size)\n",
    "syn_batch_x, syn_batch_y = next(iter(syn_set))\n",
    "syn_batch_x = syn_batch_x.numpy()\n",
    "syn_batch_y = syn_batch_y.numpy()\n",
    "fake_d_intra, fake_d_inter = get_distances(syn_batch_x, syn_batch_y)"
   ]
  },
  {
   "cell_type": "code",
   "execution_count": 27,
   "metadata": {},
   "outputs": [
    {
     "data": {
      "image/png": "[encoded data removed]",
      "text/plain": [
       "<Figure size 432x288 with 1 Axes>"
      ]
     },
     "metadata": {},
     "output_type": "display_data"
    }
   ],
   "source": [
    "plt.hist(real_d_intra, color='green',bins=100,alpha=0.8,label='real')\n",
    "plt.hist(fake_d_intra, color='red',bins=100,alpha=0.8,label='fake')\n",
    "plt.legend()\n",
    "None"
   ]
  }
 ],
 "metadata": {
  "kernelspec": {
   "display_name": "Python 3",
   "language": "python",
   "name": "python3"
  },
  "language_info": {
   "codemirror_mode": {
    "name": "ipython",
    "version": 3
   },
   "file_extension": ".py",
   "mimetype": "text/x-python",
   "name": "python",
   "nbconvert_exporter": "python",
   "pygments_lexer": "ipython3",
   "version": "3.6.5"
  }
 },
 "nbformat": 4,
 "nbformat_minor": 2
}
